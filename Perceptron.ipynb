{
 "cells": [
  {
   "cell_type": "markdown",
   "metadata": {},
   "source": [
    "Building a Perceptron for multiple linear regression from scratch"
   ]
  },
  {
   "cell_type": "code",
   "execution_count": 18,
   "metadata": {},
   "outputs": [
    {
     "data": {
      "text/plain": [
       "38.408"
      ]
     },
     "execution_count": 18,
     "metadata": {},
     "output_type": "execute_result"
    }
   ],
   "source": [
    "class Perceptron:\n",
    "    def __init__(self, num_inputs=4, weigths=[.2117,.4983,.1297,.2583], weight =-37.48):\n",
    "        self.num_inputs = num_inputs\n",
    "        self.weights = weights\n",
    "        self.weight = weight\n",
    "    \n",
    "    def weighted_sum(self, inputs):\n",
    "        weighted_sum = self.weight\n",
    "        for i in range(self.num_inputs):\n",
    "            weighted_sum += inputs[i] * self.weights[i]\n",
    "        return weighted_sum\n",
    "\n",
    "cool_perceptron = Perceptron()\n",
    "cool_perceptron.weighted_sum([35,75,200,20])"
   ]
  },
  {
   "cell_type": "code",
   "execution_count": null,
   "metadata": {},
   "outputs": [],
   "source": []
  }
 ],
 "metadata": {
  "kernelspec": {
   "display_name": "Python 3",
   "language": "python",
   "name": "python3"
  },
  "language_info": {
   "codemirror_mode": {
    "name": "ipython",
    "version": 3
   },
   "file_extension": ".py",
   "mimetype": "text/x-python",
   "name": "python",
   "nbconvert_exporter": "python",
   "pygments_lexer": "ipython3",
   "version": "3.8.3"
  }
 },
 "nbformat": 4,
 "nbformat_minor": 4
}
